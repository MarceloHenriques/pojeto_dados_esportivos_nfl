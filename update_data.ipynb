{
 "cells": [
  {
   "cell_type": "code",
   "execution_count": 1,
   "metadata": {},
   "outputs": [],
   "source": [
    "import requests\n",
    "import pandas as pd\n",
    "import json\n",
    "from datetime import datetime\n",
    "import os\n",
    "import schedule\n",
    "import time\n",
    "from dotenv import load_dotenv"
   ]
  },
  {
   "cell_type": "code",
   "execution_count": null,
   "metadata": {},
   "outputs": [],
   "source": [
    "# Função que faz a requisição para a API e salva o CSV\n",
    "def fetch_and_update_data():\n",
    "    api_key = os.getenv(\"API_KEY\")  # Coloque sua chave da API aqui\n",
    "    url = \"https://v1.american-football.api-sports.io/standings\"\n",
    "    \n",
    "    headers = {\n",
    "        \"x-rapidapi-key\": api_key,\n",
    "        \"x-rapidapi-host\": \"v1.american-football.api-sports.io\"\n",
    "    }\n",
    "\n",
    "    params = {\n",
    "        'league': 1,  # Exemplo de liga\n",
    "        'season': 2024  # Exemplo de temporada\n",
    "    }\n",
    "\n",
    "    response = requests.get(url, headers=headers, params=params)\n",
    "    data = response.json()\n",
    "\n",
    "    # Transformação dos dados com pandas\n",
    "    df = pd.json_normalize(data['response'])\n",
    "    df.to_csv('data_silver.csv', index=False)\n",
    "    print(f\"Dados atualizados em: {datetime.now()}\")\n",
    "\n",
    "# Agendando para rodar a cada minuto\n",
    "schedule.every(1).minute.do(fetch_and_update_data)\n",
    "\n",
    "# Loop para manter o script rodando\n",
    "while True:\n",
    "    schedule.run_pending()\n",
    "    time.sleep(1)"
   ]
  }
 ],
 "metadata": {
  "kernelspec": {
   "display_name": "venv",
   "language": "python",
   "name": "python3"
  },
  "language_info": {
   "codemirror_mode": {
    "name": "ipython",
    "version": 3
   },
   "file_extension": ".py",
   "mimetype": "text/x-python",
   "name": "python",
   "nbconvert_exporter": "python",
   "pygments_lexer": "ipython3",
   "version": "3.12.4"
  }
 },
 "nbformat": 4,
 "nbformat_minor": 2
}
