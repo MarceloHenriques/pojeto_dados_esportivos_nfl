{
 "cells": [
  {
   "cell_type": "code",
   "execution_count": 5,
   "metadata": {},
   "outputs": [
    {
     "name": "stdout",
     "output_type": "stream",
     "text": [
      "Jogos encontrados para a temporada 2024:\n",
      "Dados salvos com sucesso em 'nba_games_2024.json'.\n"
     ]
    }
   ],
   "source": [
    "import requests\n",
    "import os\n",
    "from dotenv import load_dotenv\n",
    "import json  # Importar a biblioteca para manipular JSON\n",
    "\n",
    "# Carregar chave da API do arquivo .env\n",
    "load_dotenv()\n",
    "api_key = os.getenv(\"API_KEY\")\n",
    "\n",
    "# Função para consultar os jogos de uma temporada específica\n",
    "def fetch_games_for_season(season):\n",
    "    url = f\"https://v2.nba.api-sports.io/games?season={season}\"\n",
    "\n",
    "    headers = {\n",
    "        'x-rapidapi-host': 'v2.nba.api-sports.io',\n",
    "        'x-rapidapi-key': api_key\n",
    "    }\n",
    "\n",
    "    try:\n",
    "        response = requests.get(url, headers=headers)\n",
    "        response.raise_for_status()  # Levanta um erro se o status não for 200\n",
    "        data = response.json()\n",
    "        \n",
    "        if 'response' in data and data['response']:\n",
    "            return data['response']  # Retorna os jogos da temporada\n",
    "        else:\n",
    "            print(f\"Nenhum jogo encontrado para a temporada {season}.\")\n",
    "            return []\n",
    "    \n",
    "    except requests.exceptions.RequestException as e:\n",
    "        print(f\"Erro ao consultar a API: {e}\")\n",
    "        return []\n",
    "\n",
    "# Testando a função com uma temporada específica\n",
    "season = \"2024\"\n",
    "games = fetch_games_for_season(season)\n",
    "\n",
    "# Verificando os jogos retornados\n",
    "if games:\n",
    "    print(f\"Jogos encontrados para a temporada {season}:\")\n",
    "    \n",
    "    # Salvando os jogos em um arquivo JSON\n",
    "    with open(f\"nba_games_{season}.json\", \"w\") as json_file:\n",
    "        json.dump(games, json_file, indent=4)\n",
    "    \n",
    "    print(f\"Dados salvos com sucesso em 'nba_games_{season}.json'.\")\n",
    "else:\n",
    "    print(f\"Não foram encontrados jogos para a temporada {season}.\")\n"
   ]
  },
  {
   "cell_type": "code",
   "execution_count": 6,
   "metadata": {},
   "outputs": [
    {
     "name": "stdout",
     "output_type": "stream",
     "text": [
      "Dados salvos com sucesso em 'nba_games_2024.csv'.\n"
     ]
    }
   ],
   "source": [
    "import json\n",
    "import pandas as pd\n",
    "\n",
    "# Carregar os dados do arquivo JSON\n",
    "with open('nba_games_2024.json', 'r') as json_file:\n",
    "    data = json.load(json_file)\n",
    "\n",
    "# Verificar se o JSON tem dados\n",
    "if data:\n",
    "    # Converter para DataFrame\n",
    "    df = pd.json_normalize(data)\n",
    "\n",
    "    # Salvar como CSV\n",
    "    df.to_csv('nba_data.csv', index=False)\n",
    "\n",
    "    print(\"Dados salvos com sucesso em 'nba_games_2024.csv'.\")\n",
    "else:\n",
    "    print(\"O arquivo JSON está vazio ou não contém dados.\")\n"
   ]
  },
  {
   "cell_type": "code",
   "execution_count": 20,
   "metadata": {},
   "outputs": [
    {
     "data": {
      "text/plain": [
       "Index(['id', 'league', 'season', 'stage', 'officials', 'timesTied',\n",
       "       'leadChanges', 'nugget', 'date.start', 'date.end', 'date.duration',\n",
       "       'status.clock', 'status.halftime', 'status.short', 'status.long',\n",
       "       'periods.current', 'periods.total', 'periods.endOfPeriod', 'arena.name',\n",
       "       'arena.city', 'arena.state', 'arena.country', 'teams.visitors.id',\n",
       "       'teams.visitors.name', 'teams.visitors.nickname', 'teams.visitors.code',\n",
       "       'teams.visitors.logo', 'teams.home.id', 'teams.home.name',\n",
       "       'teams.home.nickname', 'teams.home.code', 'teams.home.logo',\n",
       "       'scores.visitors.win', 'scores.visitors.loss',\n",
       "       'scores.visitors.series.win', 'scores.visitors.series.loss',\n",
       "       'scores.visitors.linescore', 'scores.visitors.points',\n",
       "       'scores.home.win', 'scores.home.loss', 'scores.home.series.win',\n",
       "       'scores.home.series.loss', 'scores.home.linescore',\n",
       "       'scores.home.points'],\n",
       "      dtype='object')"
      ]
     },
     "execution_count": 20,
     "metadata": {},
     "output_type": "execute_result"
    }
   ],
   "source": [
    "import pandas as pd\n",
    "\n",
    "df = pd.read_csv('nba_data.csv')\n",
    "\n",
    "df.shape\n",
    "df .columns\n"
   ]
  }
 ],
 "metadata": {
  "kernelspec": {
   "display_name": "venv",
   "language": "python",
   "name": "python3"
  },
  "language_info": {
   "codemirror_mode": {
    "name": "ipython",
    "version": 3
   },
   "file_extension": ".py",
   "mimetype": "text/x-python",
   "name": "python",
   "nbconvert_exporter": "python",
   "pygments_lexer": "ipython3",
   "version": "3.12.4"
  }
 },
 "nbformat": 4,
 "nbformat_minor": 2
}
